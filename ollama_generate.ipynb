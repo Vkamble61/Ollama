{
 "cells": [
  {
   "cell_type": "code",
   "execution_count": 6,
   "id": "2fb02dda",
   "metadata": {},
   "outputs": [
    {
     "name": "stdout",
     "output_type": "stream",
     "text": [
      " The capital of France is Paris. It is known for its iconic landmarks such as the Eiffel Tower, Louvre Museum, Notre-Dame Cathedral, and Arc de Triomphe.\n",
      "\n"
     ]
    }
   ],
   "source": [
    "import ollama\n",
    "output =ollama.generate(model=\"phi\", prompt=\"What is the capital of France?\")\n",
    "#print(output)\n",
    "print(output['response']) # Print the output from the model"
   ]
  }
 ],
 "metadata": {
  "kernelspec": {
   "display_name": "ollama_python",
   "language": "python",
   "name": "python3"
  },
  "language_info": {
   "codemirror_mode": {
    "name": "ipython",
    "version": 3
   },
   "file_extension": ".py",
   "mimetype": "text/x-python",
   "name": "python",
   "nbconvert_exporter": "python",
   "pygments_lexer": "ipython3",
   "version": "3.11.9"
  }
 },
 "nbformat": 4,
 "nbformat_minor": 5
}
