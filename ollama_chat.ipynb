{
 "cells": [
  {
   "cell_type": "code",
   "execution_count": 9,
   "id": "ae0bb678",
   "metadata": {},
   "outputs": [
    {
     "name": "stdout",
     "output_type": "stream",
     "text": [
      " The current Prime Minister of India is Narendra Modi, who has been in office since 2014. He belongs to the Bharatiya Janata Party (BJP) and is a former Chief Minister of Gujarat state in western India.\n",
      "\n"
     ]
    }
   ],
   "source": [
    "import ollama\n",
    "output = ollama.chat(model =\"phi\", messages=[\n",
    "    {\"role\": \"user\", \"content\": \"Who is the Prime Minister of India?\"}])\n",
    "print(output['message']['content'])  # Accessing the first message content"
   ]
  }
 ],
 "metadata": {
  "kernelspec": {
   "display_name": "ollama_python",
   "language": "python",
   "name": "python3"
  },
  "language_info": {
   "codemirror_mode": {
    "name": "ipython",
    "version": 3
   },
   "file_extension": ".py",
   "mimetype": "text/x-python",
   "name": "python",
   "nbconvert_exporter": "python",
   "pygments_lexer": "ipython3",
   "version": "3.11.9"
  }
 },
 "nbformat": 4,
 "nbformat_minor": 5
}
