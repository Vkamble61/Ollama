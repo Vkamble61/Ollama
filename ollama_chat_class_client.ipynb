{
 "cells": [
  {
   "cell_type": "code",
   "execution_count": 11,
   "id": "a306d928",
   "metadata": {},
   "outputs": [
    {
     "name": "stdout",
     "output_type": "stream",
     "text": [
      " I don't have personal opinions or beliefs, but i can provide you with factual information. the capital of the usa is washington, d.c., and some of its states are alabama, florida, california, texas, nj, new york, massachusetts, mexico, and hawaii.\n"
     ]
    }
   ],
   "source": [
    "from ollama import Client\n",
    "\n",
    "#ollama_client = Client()\n",
    "ollama_client = Client(host=\"http://localhost:11434\")\n",
    "output = ollama_client.chat(model = \"phi\", messages=[\n",
    "    {\"role\": \"user\", \"content\": \"What is capital of USA? please list states in USA\"}], stream=True)\n",
    "for chunk in output:\n",
    "    print(chunk['message']['content'], end='', flush=True)\n"
   ]
  }
 ],
 "metadata": {
  "kernelspec": {
   "display_name": "ollama_python",
   "language": "python",
   "name": "python3"
  },
  "language_info": {
   "codemirror_mode": {
    "name": "ipython",
    "version": 3
   },
   "file_extension": ".py",
   "mimetype": "text/x-python",
   "name": "python",
   "nbconvert_exporter": "python",
   "pygments_lexer": "ipython3",
   "version": "3.11.9"
  }
 },
 "nbformat": 4,
 "nbformat_minor": 5
}
